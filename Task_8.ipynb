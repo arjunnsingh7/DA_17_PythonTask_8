{
 "cells": [
  {
   "cell_type": "markdown",
   "id": "4aecb402",
   "metadata": {},
   "source": [
    "## ___<center>Task_8</center>___\n",
    "___"
   ]
  },
  {
   "cell_type": "code",
   "execution_count": 1,
   "id": "8491f55d",
   "metadata": {},
   "outputs": [
    {
     "name": "stdout",
     "output_type": "stream",
     "text": [
      "SLAYER is at level 7 with 120 HP\n"
     ]
    }
   ],
   "source": [
    "class GameCharacter:\n",
    "    def __init__(self, name, level):\n",
    "        self._name = name             # Protected variable\n",
    "        self.__health = 100           # Private variable\n",
    "        self.__level = level          # Private variable\n",
    "\n",
    "    def level_up(self):\n",
    "        self.__level += 1             # Modify private variable internally\n",
    "        self.__increase_health()      # Call private method internally\n",
    "\n",
    "    def _show_status(self):           # Protected method\n",
    "        print(f\"{self._name} is at level {self.__level} with {self.__health} HP\")\n",
    "\n",
    "    def __increase_health(self):     # Private method\n",
    "        self.__health += 20\n",
    "\n",
    "# Demo\n",
    "hero = GameCharacter(\"SLAYER\", 6)\n",
    "hero.level_up()\n",
    "hero._show_status()  # Protected method can be accessed externally (not recommended)"
   ]
  },
  {
   "cell_type": "code",
   "execution_count": 2,
   "id": "ef442ce8",
   "metadata": {},
   "outputs": [
    {
     "name": "stdout",
     "output_type": "stream",
     "text": [
      "Battery level after ride: 85%\n",
      "Battery level after ride: 70%\n",
      "Motor Status (indirect): on\n"
     ]
    }
   ],
   "source": [
    "class ElectricScooter:\n",
    "    def __init__(self):\n",
    "        self._battery_level = 100     # Protected variable\n",
    "        self.__motor_status = \"off\"   # Private variable\n",
    "\n",
    "    def start_ride(self):\n",
    "        if self._battery_level > 10:\n",
    "            self.__motor_status = \"on\"    # Change private variable internally\n",
    "            self._consume_battery()       # Call protected method\n",
    "\n",
    "    def _consume_battery(self):          # Protected method\n",
    "        self._battery_level -= 15\n",
    "        print(f\"Battery level after ride: {self._battery_level}%\")\n",
    "\n",
    "    def check_status(self):              # Public method\n",
    "        print(\"Motor Status (indirect):\", self.__motor_status)\n",
    "\n",
    "# Demo\n",
    "bike = ElectricScooter()\n",
    "bike.start_ride()\n",
    "bike._consume_battery()\n",
    "bike.check_status()"
   ]
  },
  {
   "cell_type": "code",
   "execution_count": 3,
   "id": "0b5069fd",
   "metadata": {},
   "outputs": [
    {
     "name": "stdout",
     "output_type": "stream",
     "text": [
      "Final invoice for Tech Solutions: ₹4500.0\n"
     ]
    }
   ],
   "source": [
    "class Invoice:\n",
    "    def __init__(self, client_name, amount):\n",
    "        self._client_name = client_name     # Protected variable\n",
    "        self.__amount = amount              # Private variable\n",
    "\n",
    "    def apply_discount(self, percentage):   # Public method\n",
    "        if 0 < percentage < 100:\n",
    "            self.__amount -= (self.__amount * percentage / 100)\n",
    "            self.__generate_summary()       # Call private method internally\n",
    "\n",
    "    def _get_amount(self):                  # Protected method\n",
    "        return self.__amount\n",
    "\n",
    "    def __generate_summary(self):           # Private method\n",
    "        print(f\"Final invoice for {self._client_name}: ₹{self.__amount}\")\n",
    "\n",
    "# Demo\n",
    "bill = Invoice(\"Tech Solutions\", 5000)\n",
    "bill.apply_discount(10)"
   ]
  },
  {
   "cell_type": "code",
   "execution_count": 5,
   "id": "d017aaef",
   "metadata": {},
   "outputs": [
    {
     "name": "stdout",
     "output_type": "stream",
     "text": [
      "Golden Retriever is now 7 years old\n"
     ]
    }
   ],
   "source": [
    "class Pet:\n",
    "    def __init__(self, species, age):\n",
    "        self._species = species        # Protected variable\n",
    "        self.__age = age              # Private variable\n",
    "\n",
    "    def have_birthday(self):          # Public method\n",
    "        self.__age += 1               # Modify private variable\n",
    "        self._show_age()              # Call protected method\n",
    "\n",
    "    def _show_age(self):              # Protected method\n",
    "        print(f\"{self._species} is now {self.__age} years old\")\n",
    "\n",
    "# Demo\n",
    "dog = Pet(\"Golden Retriever\", 6)\n",
    "dog.have_birthday()"
   ]
  },
  {
   "cell_type": "code",
   "execution_count": 8,
   "id": "b58a0a4c",
   "metadata": {},
   "outputs": [
    {
     "name": "stdout",
     "output_type": "stream",
     "text": [
      "Thanks SLAYER, you're now a Premium member!\n"
     ]
    }
   ],
   "source": [
    "class Shopper:\n",
    "    def __init__(self, username, membership):\n",
    "        self._username = username         # Protected variable\n",
    "        self.__membership = membership    # Private variable\n",
    "\n",
    "    def upgrade_membership(self):         # Public method\n",
    "        if self.__membership != \"Premium\":\n",
    "            self.__membership = \"Premium\"\n",
    "            self.__thank_you()            # Call private method internally\n",
    "\n",
    "    def _get_status(self):                # Protected method\n",
    "        return self.__membership\n",
    "\n",
    "    def __thank_you(self):                # Private method\n",
    "        print(f\"Thanks {self._username}, you're now a Premium member!\")\n",
    "\n",
    "# Demo\n",
    "user = Shopper(\"SLAYER\", \"Basic\")\n",
    "user.upgrade_membership()"
   ]
  }
 ],
 "metadata": {
  "kernelspec": {
   "display_name": "Python 3",
   "language": "python",
   "name": "python3"
  },
  "language_info": {
   "codemirror_mode": {
    "name": "ipython",
    "version": 3
   },
   "file_extension": ".py",
   "mimetype": "text/x-python",
   "name": "python",
   "nbconvert_exporter": "python",
   "pygments_lexer": "ipython3",
   "version": "3.9.12"
  }
 },
 "nbformat": 4,
 "nbformat_minor": 5
}
